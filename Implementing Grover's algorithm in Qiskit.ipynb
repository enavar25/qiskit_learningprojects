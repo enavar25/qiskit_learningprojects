{
 "cells": [
  {
   "cell_type": "markdown",
   "id": "bottom-question",
   "metadata": {},
   "source": [
    "# Grover's algorithm for two-qubits"
   ]
  },
  {
   "cell_type": "markdown",
   "id": "7d1b9484",
   "metadata": {},
   "source": [
    "Assuming you have a list of 4 characters where waldo is the fourth element in the list, implement Grover’s algorithm to find waldo. If waldo is found in state number 4 then we should get state 11 as our measurement."
   ]
  },
  {
   "cell_type": "markdown",
   "id": "billion-tattoo",
   "metadata": {},
   "source": [
    " \n",
    "The oracle matrix that is needed to implement is given by:\n",
    "\n",
    "$$\n",
    "oracle =\n",
    "\\begin{bmatrix}\n",
    "1 & 0 & 0 & 0 \\\\\n",
    "0 & 1 & 0 & 0 \\\\\n",
    "0 & 0 & 1 & 0 \\\\\n",
    "0 & 0 & 0 & -1 \\\\\n",
    "\\end{bmatrix}\n",
    "$$\n",
    "\n",
    "therefore, the oracle will be  the controlled-Z gate."
   ]
  },
  {
   "cell_type": "code",
   "execution_count": 13,
   "id": "sapphire-elder",
   "metadata": {},
   "outputs": [],
   "source": [
    "######initialization\n",
    "import qiskit as q  # importing Qiskit\n",
    "from qiskit.providers.ibmq import least_busy\n",
    "from qiskit.visualization import plot_histogram # import histogram\n",
    "import matplotlib.pyplot as plt\n",
    "import numpy as np\n",
    "\n",
    "\n",
    "\n",
    "\n",
    "\n"
   ]
  },
  {
   "cell_type": "markdown",
   "id": "urban-impact",
   "metadata": {},
   "source": [
    "Initalize by applying H gates to both input qubits. The function takes the quantum circuit as the input."
   ]
  },
  {
   "cell_type": "code",
   "execution_count": 14,
   "id": "seasonal-timer",
   "metadata": {},
   "outputs": [],
   "source": [
    "def initalize(qc):\n",
    "    \n",
    "    qc.h(0)\n",
    "    qc.h(1)\n",
    "   "
   ]
  },
  {
   "cell_type": "markdown",
   "id": "5ddeef8f",
   "metadata": {},
   "source": [
    "Create circuit"
   ]
  },
  {
   "cell_type": "code",
   "execution_count": 15,
   "id": "confirmed-animation",
   "metadata": {},
   "outputs": [],
   "source": [
    "grover_circuit = q.QuantumCircuit(2)\n",
    "initalize(grover_circuit)\n",
    "\n"
   ]
  },
  {
   "cell_type": "markdown",
   "id": "vital-therapist",
   "metadata": {},
   "source": [
    "Applying the oracle and Grover's diffusion operator. The 11 in oracle_11 implies that this is the oracle we want to implement if waldo is in the fourth state position "
   ]
  },
  {
   "cell_type": "code",
   "execution_count": 16,
   "id": "economic-hughes",
   "metadata": {},
   "outputs": [],
   "source": [
    "def oracle_11(qc):\n",
    "    \n",
    "    qc.cz(0, 1) #Apply a controlled Z-gate\n",
    "    "
   ]
  },
  {
   "cell_type": "code",
   "execution_count": 17,
   "id": "incorporated-simpson",
   "metadata": {
    "scrolled": true
   },
   "outputs": [],
   "source": [
    "oracle_11(grover_circuit)\n"
   ]
  },
  {
   "cell_type": "markdown",
   "id": "bulgarian-european",
   "metadata": {},
   "source": [
    "Implement the operator as a function u, which takes the quantum circuit as an input and applies the diffusion operator that is a 4x4 matrix with a scalar of 1/2 outside the matrix and all elements inside being 1 and the diagonal elements having a negative sign."
   ]
  },
  {
   "cell_type": "code",
   "execution_count": 18,
   "id": "commercial-economy",
   "metadata": {},
   "outputs": [],
   "source": [
    "def u(qc): # diffusion operator \n",
    "    \n",
    "    qc.h(0)\n",
    "    qc.h(1)\n",
    "    qc.z(0)\n",
    "    qc.z(1)\n",
    "    qc.cz(0,1)\n",
    "    qc.h(0)\n",
    "    qc.h(1)\n",
    "  "
   ]
  },
  {
   "cell_type": "code",
   "execution_count": 19,
   "id": "surrounded-discharge",
   "metadata": {
    "scrolled": true
   },
   "outputs": [],
   "source": [
    "u(grover_circuit)        \n"
   ]
  },
  {
   "cell_type": "markdown",
   "id": "minus-senior",
   "metadata": {},
   "source": [
    " The function `measure_all()` is used to directly add classical bits and measurements to our circuit."
   ]
  },
  {
   "cell_type": "code",
   "execution_count": 20,
   "id": "legislative-wallpaper",
   "metadata": {
    "scrolled": true
   },
   "outputs": [
    {
     "data": {
      "image/png": "[encoded data removed]",
      "text/plain": [
       "<Figure size 658.679x204.68 with 1 Axes>"
      ]
     },
     "execution_count": 20,
     "metadata": {},
     "output_type": "execute_result"
    }
   ],
   "source": [
    "grover_circuit.measure_all()\n",
    "grover_circuit.draw('mpl')"
   ]
  },
  {
   "cell_type": "markdown",
   "id": "steady-founder",
   "metadata": {},
   "source": [
    "Implementing the circuit on the qasm simulator"
   ]
  },
  {
   "cell_type": "code",
   "execution_count": 21,
   "id": "retired-noise",
   "metadata": {},
   "outputs": [
    {
     "data": {
      "image/png": "[encoded data removed]",
      "text/plain": [
       "<Figure size 504x360 with 1 Axes>"
      ]
     },
     "execution_count": 21,
     "metadata": {},
     "output_type": "execute_result"
    }
   ],
   "source": [
    "backend = q.Aer.get_backend('qasm_simulator')\n",
    "job = q.execute(grover_circuit, backend, shots = 1024)\n",
    "result = job.result()\n",
    "counts = result.get_counts()\n",
    "plot_histogram(counts)"
   ]
  },
  {
   "cell_type": "code",
   "execution_count": null,
   "id": "3367812e",
   "metadata": {},
   "outputs": [],
   "source": []
  }
 ],
 "metadata": {
  "kernelspec": {
   "display_name": "Python 3",
   "language": "python",
   "name": "python3"
  },
  "language_info": {
   "codemirror_mode": {
    "name": "ipython",
    "version": 3
   },
   "file_extension": ".py",
   "mimetype": "text/x-python",
   "name": "python",
   "nbconvert_exporter": "python",
   "pygments_lexer": "ipython3",
   "version": "3.8.10"
  }
 },
 "nbformat": 4,
 "nbformat_minor": 5
}
